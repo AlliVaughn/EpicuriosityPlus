{
 "cells": [
  {
   "cell_type": "code",
   "execution_count": 1,
   "metadata": {},
   "outputs": [],
   "source": [
    "import pandas as pd\n",
    "import warnings; warnings.simplefilter('ignore')\n",
    "import numpy as np\n",
    "import re"
   ]
  },
  {
   "cell_type": "code",
   "execution_count": 2,
   "metadata": {},
   "outputs": [],
   "source": [
    "# pull data\n",
    "df_recipes = pd.read_json ('full_format_recipes.json')"
   ]
  },
  {
   "cell_type": "code",
   "execution_count": 3,
   "metadata": {},
   "outputs": [],
   "source": [
    "# see all records in datafrae\n",
    "# df_recipes.head()"
   ]
  },
  {
   "cell_type": "code",
   "execution_count": 4,
   "metadata": {},
   "outputs": [],
   "source": [
    "# drop nan records\n",
    "df = df_recipes.dropna()\n",
    "# df.shape[0]"
   ]
  },
  {
   "cell_type": "code",
   "execution_count": 5,
   "metadata": {},
   "outputs": [],
   "source": [
    "# let's change the categories header to tags\n",
    "df.rename(columns = {'categories': 'tags'}, inplace=True)"
   ]
  },
  {
   "cell_type": "code",
   "execution_count": 6,
   "metadata": {},
   "outputs": [],
   "source": [
    "# let's add a column for count of ingredients\n",
    "df['ingredients_count'] = df['ingredients'].apply(lambda x: len(x))"
   ]
  },
  {
   "cell_type": "code",
   "execution_count": 7,
   "metadata": {},
   "outputs": [],
   "source": [
    "# let's add a column for count of tags\n",
    "df['tags_count'] = df['tags'].apply(lambda x: len(x))"
   ]
  },
  {
   "cell_type": "code",
   "execution_count": 8,
   "metadata": {},
   "outputs": [],
   "source": [
    "#take a peak\n",
    "# df.head()"
   ]
  },
  {
   "cell_type": "code",
   "execution_count": 9,
   "metadata": {},
   "outputs": [],
   "source": [
    "# describe data\n",
    "# df.describe()"
   ]
  },
  {
   "cell_type": "code",
   "execution_count": 10,
   "metadata": {},
   "outputs": [],
   "source": [
    "# some calorie values are out of control! no way it's real\n",
    "# so let's find the outliers and then remove them by using the IQR range\n",
    "\n",
    "q1  = df['calories'].quantile(.25)\n",
    "q3  = df['calories'].quantile(.75)\n",
    "iqr = q3 - q1\n",
    "\n",
    "df = df.loc[(df['calories'] > q1-(iqr*3)) & (df['calories'] < q3+(iqr*3))]\n",
    "# df.shape"
   ]
  },
  {
   "cell_type": "code",
   "execution_count": 11,
   "metadata": {},
   "outputs": [],
   "source": [
    "# remove anything with zero calories\n",
    "df.drop(df[df['calories']==0].index, inplace=True)\n",
    "# df.shape[0]"
   ]
  },
  {
   "cell_type": "code",
   "execution_count": 12,
   "metadata": {},
   "outputs": [],
   "source": [
    "# function to get normalized rating/define and bins\n",
    "def get_normalized_rating(rating):\n",
    "    if rating <1:\n",
    "        return 0\n",
    "    elif rating <2:\n",
    "        return 1\n",
    "    elif rating <3:\n",
    "        return 2\n",
    "    elif rating <4:\n",
    "        return 3\n",
    "    else:\n",
    "        return 4"
   ]
  },
  {
   "cell_type": "code",
   "execution_count": 13,
   "metadata": {},
   "outputs": [],
   "source": [
    "# create a normalized rating column\n",
    "df['rating_normalized'] = df['rating'].apply(get_normalized_rating)"
   ]
  },
  {
   "cell_type": "code",
   "execution_count": 14,
   "metadata": {},
   "outputs": [],
   "source": [
    "# epifactor calculation \n",
    "def get_epifactor(min_val, max_val, mean_val):\n",
    "    return ((mean_val - min_val) / (max_val - min_val)) * 100"
   ]
  },
  {
   "cell_type": "code",
   "execution_count": 15,
   "metadata": {},
   "outputs": [
    {
     "data": {
      "text/html": [
       "<div>\n",
       "<style scoped>\n",
       "    .dataframe tbody tr th:only-of-type {\n",
       "        vertical-align: middle;\n",
       "    }\n",
       "\n",
       "    .dataframe tbody tr th {\n",
       "        vertical-align: top;\n",
       "    }\n",
       "\n",
       "    .dataframe thead th {\n",
       "        text-align: right;\n",
       "    }\n",
       "</style>\n",
       "<table border=\"1\" class=\"dataframe\">\n",
       "  <thead>\n",
       "    <tr style=\"text-align: right;\">\n",
       "      <th></th>\n",
       "      <th>min</th>\n",
       "      <th>max</th>\n",
       "      <th>mean</th>\n",
       "      <th>epifactor</th>\n",
       "    </tr>\n",
       "    <tr>\n",
       "      <th>rating_normalized</th>\n",
       "      <th></th>\n",
       "      <th></th>\n",
       "      <th></th>\n",
       "      <th></th>\n",
       "    </tr>\n",
       "  </thead>\n",
       "  <tbody>\n",
       "    <tr>\n",
       "      <th>0</th>\n",
       "      <td>1.0</td>\n",
       "      <td>1822.0</td>\n",
       "      <td>310.892857</td>\n",
       "      <td>17.017730</td>\n",
       "    </tr>\n",
       "    <tr>\n",
       "      <th>1</th>\n",
       "      <td>19.0</td>\n",
       "      <td>1591.0</td>\n",
       "      <td>353.134921</td>\n",
       "      <td>21.255402</td>\n",
       "    </tr>\n",
       "    <tr>\n",
       "      <th>2</th>\n",
       "      <td>14.0</td>\n",
       "      <td>1496.0</td>\n",
       "      <td>384.475472</td>\n",
       "      <td>24.998345</td>\n",
       "    </tr>\n",
       "    <tr>\n",
       "      <th>3</th>\n",
       "      <td>1.0</td>\n",
       "      <td>1821.0</td>\n",
       "      <td>429.288802</td>\n",
       "      <td>23.532352</td>\n",
       "    </tr>\n",
       "    <tr>\n",
       "      <th>4</th>\n",
       "      <td>2.0</td>\n",
       "      <td>1829.0</td>\n",
       "      <td>460.248154</td>\n",
       "      <td>25.082001</td>\n",
       "    </tr>\n",
       "  </tbody>\n",
       "</table>\n",
       "</div>"
      ],
      "text/plain": [
       "                    min     max        mean  epifactor\n",
       "rating_normalized                                     \n",
       "0                   1.0  1822.0  310.892857  17.017730\n",
       "1                  19.0  1591.0  353.134921  21.255402\n",
       "2                  14.0  1496.0  384.475472  24.998345\n",
       "3                   1.0  1821.0  429.288802  23.532352\n",
       "4                   2.0  1829.0  460.248154  25.082001"
      ]
     },
     "execution_count": 15,
     "metadata": {},
     "output_type": "execute_result"
    }
   ],
   "source": [
    "# create calorie epifactor dataframe\n",
    "df_calorie_epifactor = df.groupby('rating_normalized')['calories'].agg(['min', 'max', 'mean'])\n",
    "df_calorie_epifactor['epifactor'] = np.vectorize(get_epifactor)(df_calorie_epifactor['min'], df_calorie_epifactor['max'], df_calorie_epifactor['mean'])\n",
    "df_calorie_epifactor"
   ]
  },
  {
   "cell_type": "code",
   "execution_count": 16,
   "metadata": {},
   "outputs": [],
   "source": [
    "# create fat epifactor dataframe\n",
    "\n",
    "# np.vectorize (allows you to execute your function with numpy?)\n",
    "\n",
    "df_fat_epifactor = df.groupby('rating_normalized')['fat'].agg(['min', 'max', 'mean'])\n",
    "df_fat_epifactor['epifactor'] = np.vectorize(get_epifactor)(df_fat_epifactor['min'], df_fat_epifactor['max'], df_fat_epifactor['mean'])\n",
    "# df_fat_epifactor"
   ]
  },
  {
   "cell_type": "code",
   "execution_count": 17,
   "metadata": {},
   "outputs": [],
   "source": [
    "#create protein epifactor dataframe\n",
    "df_protein_epifactor = df.groupby('rating_normalized')['protein'].agg(['min', 'max', 'mean'])\n",
    "df_protein_epifactor['epifactor'] = np.vectorize(get_epifactor)(df_protein_epifactor['min'], df_protein_epifactor['max'], df_protein_epifactor['mean'])\n",
    "# df_protein_epifactor"
   ]
  },
  {
   "cell_type": "code",
   "execution_count": 18,
   "metadata": {},
   "outputs": [],
   "source": [
    "#create ingredients epifactor dataframe\n",
    "df_ingredients_epifactor = df.groupby('rating_normalized')['ingredients_count'].agg(['min', 'max', 'mean'])\n",
    "df_ingredients_epifactor['epifactor'] = np.vectorize(get_epifactor)(df_ingredients_epifactor['min'], df_ingredients_epifactor['max'], df_ingredients_epifactor['mean'])\n",
    "# df_ingredients_epifactor"
   ]
  },
  {
   "cell_type": "code",
   "execution_count": 19,
   "metadata": {},
   "outputs": [
    {
     "data": {
      "text/html": [
       "<div>\n",
       "<style scoped>\n",
       "    .dataframe tbody tr th:only-of-type {\n",
       "        vertical-align: middle;\n",
       "    }\n",
       "\n",
       "    .dataframe tbody tr th {\n",
       "        vertical-align: top;\n",
       "    }\n",
       "\n",
       "    .dataframe thead th {\n",
       "        text-align: right;\n",
       "    }\n",
       "</style>\n",
       "<table border=\"1\" class=\"dataframe\">\n",
       "  <thead>\n",
       "    <tr style=\"text-align: right;\">\n",
       "      <th></th>\n",
       "      <th>Calories</th>\n",
       "      <th>Fat</th>\n",
       "      <th>Protein</th>\n",
       "      <th>Ingredients</th>\n",
       "    </tr>\n",
       "  </thead>\n",
       "  <tbody>\n",
       "    <tr>\n",
       "      <th>0</th>\n",
       "      <td>17.02</td>\n",
       "      <td>10.67</td>\n",
       "      <td>10.67</td>\n",
       "      <td>22.84</td>\n",
       "    </tr>\n",
       "    <tr>\n",
       "      <th>1</th>\n",
       "      <td>21.26</td>\n",
       "      <td>21.68</td>\n",
       "      <td>21.68</td>\n",
       "      <td>35.71</td>\n",
       "    </tr>\n",
       "    <tr>\n",
       "      <th>2</th>\n",
       "      <td>25.00</td>\n",
       "      <td>17.60</td>\n",
       "      <td>17.60</td>\n",
       "      <td>28.36</td>\n",
       "    </tr>\n",
       "    <tr>\n",
       "      <th>3</th>\n",
       "      <td>23.53</td>\n",
       "      <td>15.88</td>\n",
       "      <td>15.88</td>\n",
       "      <td>30.36</td>\n",
       "    </tr>\n",
       "    <tr>\n",
       "      <th>4</th>\n",
       "      <td>25.08</td>\n",
       "      <td>15.85</td>\n",
       "      <td>15.85</td>\n",
       "      <td>19.63</td>\n",
       "    </tr>\n",
       "  </tbody>\n",
       "</table>\n",
       "</div>"
      ],
      "text/plain": [
       "   Calories    Fat  Protein  Ingredients\n",
       "0     17.02  10.67    10.67        22.84\n",
       "1     21.26  21.68    21.68        35.71\n",
       "2     25.00  17.60    17.60        28.36\n",
       "3     23.53  15.88    15.88        30.36\n",
       "4     25.08  15.85    15.85        19.63"
      ]
     },
     "execution_count": 19,
     "metadata": {},
     "output_type": "execute_result"
    }
   ],
   "source": [
    "# create lists of all epifactors\n",
    "calorie = df_calorie_epifactor['epifactor'].round(2)\n",
    "fat = df_fat_epifactor['epifactor'].round(2)\n",
    "protein = df_fat_epifactor['epifactor'].round(2)\n",
    "ingredients = df_ingredients_epifactor['epifactor'].round(2)\n",
    "\n",
    "# add lists into one finale epifactor dataframe\n",
    "df_epifactor = pd.DataFrame(list(zip(calorie, fat, protein, ingredients)), \n",
    "               columns =['Calories', 'Fat', 'Protein', 'Ingredients']) \n",
    "\n",
    "# df_epifactor.rename(columns={'index':'names'}, inplace=True)\n",
    "df_epifactor"
   ]
  },
  {
   "cell_type": "code",
   "execution_count": 20,
   "metadata": {},
   "outputs": [
    {
     "data": {
      "text/plain": [
       "[{'name': 'Calories', 'value': 17.02},\n",
       " {'name': 'Fat', 'value': 10.67},\n",
       " {'name': 'Protein', 'value': 10.67},\n",
       " {'name': 'Ingredients', 'value': 22.84},\n",
       " {'name': 'Nothing', 'value': 0.2}]"
      ]
     },
     "execution_count": 20,
     "metadata": {},
     "output_type": "execute_result"
    }
   ],
   "source": [
    "radar_dict_test = [{'name': 'Calories', 'value': df_epifactor['Calories'][0]},\n",
    "                   {'name': 'Fat', 'value': df_epifactor['Fat'][0]},\n",
    "                   {'name': 'Protein', 'value': df_epifactor['Protein'][0]},\n",
    "                   {'name': 'Ingredients', 'value': df_epifactor['Ingredients'][0]},\n",
    "                   {'name': 'Nothing', 'value': 0.2}]  \n",
    "\n",
    "# i guess \"nothing\" is in here because the math only works with five values?\n",
    "\n",
    "radar_dict_test"
   ]
  },
  {
   "cell_type": "code",
   "execution_count": 34,
   "metadata": {},
   "outputs": [
    {
     "data": {
      "text/plain": [
       "127883"
      ]
     },
     "execution_count": 34,
     "metadata": {},
     "output_type": "execute_result"
    }
   ],
   "source": [
    "# create string for word cloud\n",
    "word_list = []\n",
    "df[df.tags.notnull()].tags.map(lambda x: word_list.extend(x))\n",
    "len(word_list)"
   ]
  },
  {
   "cell_type": "code",
   "execution_count": 32,
   "metadata": {},
   "outputs": [
    {
     "data": {
      "text/html": [
       "<div>\n",
       "<style scoped>\n",
       "    .dataframe tbody tr th:only-of-type {\n",
       "        vertical-align: middle;\n",
       "    }\n",
       "\n",
       "    .dataframe tbody tr th {\n",
       "        vertical-align: top;\n",
       "    }\n",
       "\n",
       "    .dataframe thead th {\n",
       "        text-align: right;\n",
       "    }\n",
       "</style>\n",
       "<table border=\"1\" class=\"dataframe\">\n",
       "  <thead>\n",
       "    <tr style=\"text-align: right;\">\n",
       "      <th></th>\n",
       "      <th>0</th>\n",
       "    </tr>\n",
       "  </thead>\n",
       "  <tbody>\n",
       "    <tr>\n",
       "      <th>0</th>\n",
       "      <td>Food Processor</td>\n",
       "    </tr>\n",
       "    <tr>\n",
       "      <th>1</th>\n",
       "      <td>Onion</td>\n",
       "    </tr>\n",
       "    <tr>\n",
       "      <th>2</th>\n",
       "      <td>Pork</td>\n",
       "    </tr>\n",
       "    <tr>\n",
       "      <th>3</th>\n",
       "      <td>Bake</td>\n",
       "    </tr>\n",
       "    <tr>\n",
       "      <th>4</th>\n",
       "      <td>Bastille Day</td>\n",
       "    </tr>\n",
       "  </tbody>\n",
       "</table>\n",
       "</div>"
      ],
      "text/plain": [
       "                0\n",
       "0  Food Processor\n",
       "1           Onion\n",
       "2            Pork\n",
       "3            Bake\n",
       "4    Bastille Day"
      ]
     },
     "execution_count": 32,
     "metadata": {},
     "output_type": "execute_result"
    }
   ],
   "source": [
    "#save to a dataframe\n",
    "word_list = pd.DataFrame(word_list)\n",
    "\n",
    "# export data to csv\n",
    "word_list.to_csv('word_list.csv', index=False)\n",
    "word_list.head()"
   ]
  },
  {
   "cell_type": "code",
   "execution_count": null,
   "metadata": {},
   "outputs": [],
   "source": [
    "def parse_trend_title_tag(title, tags, trend):\n",
    "    title = title.lower()\n",
    "    tags = [x.lower() for x in tags]\n",
    "    \n",
    "    if re.search(trend, title):\n",
    "        return 1;\n",
    "    else:\n",
    "        if any(trend in t for t in tags):\n",
    "            return 1;\n",
    "        else:\n",
    "            return 0;\n"
   ]
  },
  {
   "cell_type": "code",
   "execution_count": null,
   "metadata": {},
   "outputs": [],
   "source": [
    "# test the function\n",
    "# parse_trend_tag(\"spinach Pie\", ['one', 'pie', 'Vegetarian'], 'Vegan/Vegetarian')\n",
    "\n",
    "# tags = ['One two', 'TWO']\n",
    "# tags = [x.lower() for x in tags]\n",
    "# print(tags)\n",
    "\n",
    "# parse_trend_title_tag('title', tags, 'three')"
   ]
  },
  {
   "cell_type": "code",
   "execution_count": null,
   "metadata": {},
   "outputs": [],
   "source": [
    "df['vegan'] = df.apply(lambda row : parse_trend_title_tag(row['title'], row['tags'], 'vegan'), axis=1)\n",
    "df['vegetarian'] = df.apply(lambda row : parse_trend_title_tag(row['title'], row['tags'], 'vegetarian'), axis=1)\n",
    "df['organic'] = df.apply(lambda row : parse_trend_title_tag(row['title'], row['tags'], 'organic'), axis=1)\n",
    "df['healthy'] = df.apply(lambda row : parse_trend_title_tag(row['title'], row['tags'], 'healthy'), axis=1)\n",
    "df['quick'] = df.apply(lambda row : parse_trend_title_tag(row['title'], row['tags'], 'quick'), axis=1)\n",
    "df['low_carb'] = df.apply(lambda row : parse_trend_title_tag(row['title'], row['tags'], 'low carb'), axis=1)\n",
    "df['low_fat'] = df.apply(lambda row : parse_trend_title_tag(row['title'], row['tags'], 'low fat'), axis=1)\n",
    "df['pescatarian'] = df.apply(lambda row : parse_trend_title_tag(row['title'], row['tags'], 'pescatarian'), axis=1)\n",
    "df['fat_free'] = df.apply(lambda row : parse_trend_title_tag(row['title'], row['tags'], 'fat free'), axis=1)\n",
    "df['high_fiber'] = df.apply(lambda row : parse_trend_title_tag(row['title'], row['tags'], 'high fiber'), axis=1)\n",
    "df['kid_friendly'] = df.apply(lambda row : parse_trend_title_tag(row['title'], row['tags'], 'kid-friendly'), axis=1)\n",
    "df['kosher'] = df.apply(lambda row : parse_trend_title_tag(row['title'], row['tags'], 'kosher'), axis=1)\n",
    "df['low_cal'] = df.apply(lambda row : parse_trend_title_tag(row['title'], row['tags'], 'low cal'), axis=1)\n",
    "df['no_cook'] = df.apply(lambda row : parse_trend_title_tag(row['title'], row['tags'], 'no-cook'), axis=1)\n",
    "df['paleo'] = df.apply(lambda row : parse_trend_title_tag(row['title'], row['tags'], 'paleo'), axis=1)\n",
    "df['picnic'] = df.apply(lambda row : parse_trend_title_tag(row['title'], row['tags'], 'picnic'), axis=1)\n",
    "df['easy'] = df.apply(lambda row : parse_trend_title_tag(row['title'], row['tags'], 'easy'), axis=1)\n",
    "df['slow_cooker'] = df.apply(lambda row : parse_trend_title_tag(row['title'], row['tags'], 'slow cooker'), axis=1)\n",
    "df['gluten_free'] = df.apply(lambda row : parse_trend_title_tag(row['title'], row['tags'], 'gluten-free'), axis=1)"
   ]
  },
  {
   "cell_type": "code",
   "execution_count": null,
   "metadata": {},
   "outputs": [],
   "source": [
    "# export data to csv\n",
    "df.to_csv('epicuriousity.csv', index=False)"
   ]
  },
  {
   "cell_type": "code",
   "execution_count": null,
   "metadata": {},
   "outputs": [],
   "source": [
    "# let's see how those tags value up\n",
    "df.aggregate({'vegan':['sum'], 'vegetarian': ['sum'], 'organic':['sum'], 'healthy':['sum'], 'quick': ['sum'],\n",
    "             'low_carb': ['sum'], 'low_fat': ['sum'], 'pescatarian': ['sum'], 'fat_free': ['sum'], \n",
    "             'high_fiber': ['sum'], 'kid_friendly': ['sum'], 'kosher': ['sum'], 'low_cal': ['sum'],\n",
    "             'no_cook': ['sum'], 'paleo': ['sum'], 'picnic': ['sum'], 'easy': ['sum'], 'slow_cooker': ['sum'],\n",
    "             'gluten_free': ['sum']})"
   ]
  },
  {
   "cell_type": "code",
   "execution_count": null,
   "metadata": {},
   "outputs": [],
   "source": []
  },
  {
   "cell_type": "code",
   "execution_count": null,
   "metadata": {},
   "outputs": [],
   "source": []
  },
  {
   "cell_type": "code",
   "execution_count": null,
   "metadata": {},
   "outputs": [],
   "source": []
  },
  {
   "cell_type": "code",
   "execution_count": null,
   "metadata": {},
   "outputs": [],
   "source": []
  }
 ],
 "metadata": {
  "kernelspec": {
   "display_name": "Conda [PythonData]",
   "language": "python",
   "name": "pythondata"
  },
  "language_info": {
   "codemirror_mode": {
    "name": "ipython",
    "version": 3
   },
   "file_extension": ".py",
   "mimetype": "text/x-python",
   "name": "python",
   "nbconvert_exporter": "python",
   "pygments_lexer": "ipython3",
   "version": "3.6.9"
  }
 },
 "nbformat": 4,
 "nbformat_minor": 2
}
